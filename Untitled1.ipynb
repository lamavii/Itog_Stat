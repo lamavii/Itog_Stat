{
 "cells": [
  {
   "cell_type": "markdown",
   "id": "7b451486",
   "metadata": {},
   "source": [
    "### Провести дисперсионный анализ для определения того, есть ли различия среднего роста среди взрослых футболистов, хоккеистов и штангистов.\n",
    "### Даны значения роста в трех группах случайно выбранных спортсменов:\n",
    "### Футболисты: 173, 175, 180, 178, 177, 185, 183, 182.\n",
    "### Хоккеисты: 177, 179, 180, 188, 177, 172, 171, 184, 180.\n",
    "### Штангисты: 172, 173, 169, 177, 166, 180, 178, 177, 172, 166, 170."
   ]
  },
  {
   "cell_type": "code",
   "execution_count": 1,
   "id": "4b94484a",
   "metadata": {},
   "outputs": [
    {
     "name": "stdout",
     "output_type": "stream",
     "text": [
      "F-статистика: 5.500053450812596\n",
      "P-значение: 0.010482206918698694\n"
     ]
    }
   ],
   "source": [
    "from scipy.stats import f_oneway\n",
    "\n",
    "football = [173, 175, 180, 178, 177, 185, 183, 182]\n",
    "hockey = [177, 179, 180, 188, 177, 172, 171, 184, 180]\n",
    "weightlifting = [172, 173, 169, 177, 166, 180, 178, 177, 172, 166, 170]\n",
    "\n",
    "f_stat, p_value = f_oneway(football, hockey, weightlifting)\n",
    "\n",
    "print('F-статистика:', f_stat)\n",
    "print('P-значение:', p_value)"
   ]
  },
  {
   "cell_type": "markdown",
   "id": "b424ed26",
   "metadata": {},
   "source": [
    "### Из результатов видно, что существуют различия среднего роста в трех группах спортсменов, так как p-значение меньше уровня значимости 0.05."
   ]
  }
 ],
 "metadata": {
  "kernelspec": {
   "display_name": "Python 3 (ipykernel)",
   "language": "python",
   "name": "python3"
  },
  "language_info": {
   "codemirror_mode": {
    "name": "ipython",
    "version": 3
   },
   "file_extension": ".py",
   "mimetype": "text/x-python",
   "name": "python",
   "nbconvert_exporter": "python",
   "pygments_lexer": "ipython3",
   "version": "3.10.9"
  }
 },
 "nbformat": 4,
 "nbformat_minor": 5
}
